{
 "cells": [
  {
   "cell_type": "markdown",
   "id": "8c598b0c",
   "metadata": {},
   "source": [
    "# Bootcamp Assignment Day2\n",
    "Anjali Kumari(2246810)"
   ]
  },
  {
   "cell_type": "markdown",
   "id": "558f5694",
   "metadata": {},
   "source": [
    "# 1. Given a list of integers, remove all occurrences of a specific value using a list method. "
   ]
  },
  {
   "cell_type": "code",
   "execution_count": 1,
   "id": "0ffd6734",
   "metadata": {},
   "outputs": [
    {
     "name": "stdout",
     "output_type": "stream",
     "text": [
      "Updated list: [1, 2, 4, 2, 5]\n"
     ]
    }
   ],
   "source": [
    "def remove_all_occurrences(lst, value):\n",
    "    # Use a list comprehension to filter out all occurrences of 'value'\n",
    "    return [i for i in lst if i != value]\n",
    "\n",
    "# Example usage:\n",
    "lst = [1, 2, 3, 4, 3, 2, 3, 5]\n",
    "value_to_remove = 3\n",
    "updated_list = remove_all_occurrences(lst, value_to_remove)\n",
    "print(\"Updated list:\", updated_list)"
   ]
  },
  {
   "cell_type": "markdown",
   "id": "92288cd1",
   "metadata": {},
   "source": [
    "# 2. Concatenate a list of strings into a single string, with each element separated by a space, using a list method.\n"
   ]
  },
  {
   "cell_type": "code",
   "execution_count": 2,
   "id": "90974437",
   "metadata": {},
   "outputs": [
    {
     "name": "stdout",
     "output_type": "stream",
     "text": [
      "Concatenated string: Hello world this is Python\n"
     ]
    }
   ],
   "source": [
    "def concatenate_strings(string_list):\n",
    "    # Use the join() method to concatenate strings with a space separator\n",
    "    result = ' '.join(string_list)\n",
    "    return result\n",
    "\n",
    "# Example usage:\n",
    "string_list = [\"Hello\", \"world\", \"this\", \"is\", \"Python\"]\n",
    "result = concatenate_strings(string_list)\n",
    "print(\"Concatenated string:\", result)"
   ]
  },
  {
   "cell_type": "markdown",
   "id": "4b9b5edb",
   "metadata": {},
   "source": [
    "# 3. Reverse a list of integers using a built-in list method."
   ]
  },
  {
   "cell_type": "code",
   "execution_count": 3,
   "id": "003af5d7",
   "metadata": {},
   "outputs": [
    {
     "name": "stdout",
     "output_type": "stream",
     "text": [
      "Reversed list: [5, 4, 3, 2, 1]\n"
     ]
    }
   ],
   "source": [
    "def reverse_list(lst):\n",
    "    # Using the built-in reverse method\n",
    "    lst.reverse()\n",
    "    return lst\n",
    "\n",
    "# Example usage:\n",
    "lst = [1, 2, 3, 4, 5]\n",
    "reversed_list = reverse_list(lst)\n",
    "print(\"Reversed list:\", reversed_list)"
   ]
  },
  {
   "cell_type": "markdown",
   "id": "cdaca75c",
   "metadata": {},
   "source": [
    "# 4.\tSort a list of numbers in descending order using a built-in list method."
   ]
  },
  {
   "cell_type": "code",
   "execution_count": 4,
   "id": "4385d0f3",
   "metadata": {},
   "outputs": [
    {
     "name": "stdout",
     "output_type": "stream",
     "text": [
      "Sorted list in descending order: [8, 7, 5, 4, 2, 1]\n"
     ]
    }
   ],
   "source": [
    "def sort_descending(lst):\n",
    "    # Using the sort method with reverse=True for descending order\n",
    "    lst.sort(reverse=True)\n",
    "    return lst\n",
    "\n",
    "# Example usage:\n",
    "lst = [1, 4, 2, 8, 5, 7]\n",
    "sorted_list = sort_descending(lst)\n",
    "print(\"Sorted list in descending order:\", sorted_list)"
   ]
  },
  {
   "cell_type": "markdown",
   "id": "cdb0efbd",
   "metadata": {},
   "source": [
    "# 5.\tGiven two lists, combine them into a single list and remove any duplicate elements using a list method.\n",
    " "
   ]
  },
  {
   "cell_type": "code",
   "execution_count": 5,
   "id": "16c99a78",
   "metadata": {},
   "outputs": [
    {
     "name": "stdout",
     "output_type": "stream",
     "text": [
      "Combined list without duplicates: [1, 2, 3, 4, 5, 6, 7]\n"
     ]
    }
   ],
   "source": [
    "def combine_and_remove_duplicates(lst1, lst2):\n",
    "    combined_list = list(set(lst1 + lst2))\n",
    "    return combined_list\n",
    "\n",
    "# Example usage:\n",
    "lst1 = [1, 2, 3, 4, 5]\n",
    "lst2 = [3, 4, 5, 6, 7]\n",
    "result = combine_and_remove_duplicates(lst1, lst2)\n",
    "print(\"Combined list without duplicates:\", result)\n"
   ]
  },
  {
   "cell_type": "markdown",
   "id": "235cf754",
   "metadata": {},
   "source": [
    "# 6.\tConvert a tuple of integers into a list and remove the first and last elements using a tuple method.  "
   ]
  },
  {
   "cell_type": "code",
   "execution_count": 6,
   "id": "449d999d",
   "metadata": {},
   "outputs": [
    {
     "name": "stdout",
     "output_type": "stream",
     "text": [
      "List after removing first and last elements: [20, 30, 40]\n"
     ]
    }
   ],
   "source": [
    "def convert_and_remove_elements(tpl):\n",
    "    lst = list(tpl)\n",
    "    \n",
    "    updated_list = lst[1:-1]\n",
    "    \n",
    "    return updated_list\n",
    "\n",
    "# Example usage:\n",
    "tpl = (10, 20, 30, 40, 50)\n",
    "result = convert_and_remove_elements(tpl)\n",
    "print(\"List after removing first and last elements:\", result)\n"
   ]
  },
  {
   "cell_type": "markdown",
   "id": "f8465f44",
   "metadata": {},
   "source": [
    "# 7.\tGiven a list of tuples, extract all the first elements of each tuple into a separate list using tuple unpacking.   "
   ]
  },
  {
   "cell_type": "code",
   "execution_count": 7,
   "id": "7f8fbf3e",
   "metadata": {},
   "outputs": [
    {
     "name": "stdout",
     "output_type": "stream",
     "text": [
      "First elements: [1, 2, 3, 4]\n"
     ]
    }
   ],
   "source": [
    "def extract_first_elements(tuples_list):\n",
    "    # Using tuple unpacking to extract the first elements of each tuple\n",
    "    first_elements = [a for a, b in tuples_list]  # Assumes each tuple has at least two elements\n",
    "    return first_elements\n",
    "\n",
    "# Example usage:\n",
    "tuples_list = [(1, 'a'), (2, 'b'), (3, 'c'), (4, 'd')]\n",
    "result = extract_first_elements(tuples_list)\n",
    "print(\"First elements:\", result)\n"
   ]
  },
  {
   "cell_type": "markdown",
   "id": "e0646646",
   "metadata": {},
   "source": [
    "# 8.\tCombine two tuples into a single tuple."
   ]
  },
  {
   "cell_type": "code",
   "execution_count": 8,
   "id": "ff2a6329",
   "metadata": {},
   "outputs": [
    {
     "name": "stdout",
     "output_type": "stream",
     "text": [
      "Combined tuple: (1, 2, 3, 4, 5, 6)\n"
     ]
    }
   ],
   "source": [
    "def combine_tuples(tuple1, tuple2):\n",
    "    # Use the + operator to concatenate two tuples\n",
    "    combined_tuple = tuple1 + tuple2\n",
    "    return combined_tuple\n",
    "\n",
    "# Example usage:\n",
    "tuple1 = (1, 2, 3)\n",
    "tuple2 = (4, 5, 6)\n",
    "result = combine_tuples(tuple1, tuple2)\n",
    "print(\"Combined tuple:\", result)\n"
   ]
  },
  {
   "cell_type": "markdown",
   "id": "e7026042",
   "metadata": {},
   "source": [
    "# 9.\tFind the maximum and minimum values in a tuple of numbers using tuple methods."
   ]
  },
  {
   "cell_type": "code",
   "execution_count": 9,
   "id": "ca674775",
   "metadata": {},
   "outputs": [
    {
     "name": "stdout",
     "output_type": "stream",
     "text": [
      "Maximum value: 50\n",
      "Minimum value: 1\n"
     ]
    }
   ],
   "source": [
    "def find_max_min(tpl):\n",
    "    # Using max() and min() to find the maximum and minimum values\n",
    "    max_value = max(tpl)\n",
    "    min_value = min(tpl)\n",
    "    return max_value, min_value\n",
    "\n",
    "# Example usage:\n",
    "tpl = (10, 20, 30, 5, 50, 1)\n",
    "max_val, min_val = find_max_min(tpl)\n",
    "print(\"Maximum value:\", max_val)\n",
    "print(\"Minimum value:\", min_val)"
   ]
  },
  {
   "cell_type": "markdown",
   "id": "1be8f8f8",
   "metadata": {},
   "source": [
    "# 10.\tConvert a tuple of strings into a single string, with each element separated by a comma, using tuple methods."
   ]
  },
  {
   "cell_type": "code",
   "execution_count": 11,
   "id": "c6ef77ec",
   "metadata": {},
   "outputs": [
    {
     "name": "stdout",
     "output_type": "stream",
     "text": [
      "Concatenated string: apple, banana, cherry, date\n"
     ]
    }
   ],
   "source": [
    "def convert_tuple_to_string(string_tuple):\n",
    "    # Use the join() method to concatenate strings with a comma separator\n",
    "    result = ', '.join(string_tuple)\n",
    "    return result\n",
    "\n",
    "# Example usage:\n",
    "string_tuple = (\"apple\", \"banana\", \"cherry\", \"date\")\n",
    "result = convert_tuple_to_string(string_tuple)\n",
    "print(\"Concatenated string:\", result)"
   ]
  },
  {
   "cell_type": "markdown",
   "id": "d1c029c3",
   "metadata": {},
   "source": [
    "# 11.\tGiven two sets, return the union of the two sets using a set operation."
   ]
  },
  {
   "cell_type": "code",
   "execution_count": 12,
   "id": "6502c9db",
   "metadata": {},
   "outputs": [
    {
     "name": "stdout",
     "output_type": "stream",
     "text": [
      "Union of sets: {1, 2, 3, 4, 5}\n"
     ]
    }
   ],
   "source": [
    "def union_of_sets(set1, set2):\n",
    "    # Using the union() method to get the union of two sets\n",
    "    return set1.union(set2)\n",
    "\n",
    "# Example usage:\n",
    "set1 = {1, 2, 3}\n",
    "set2 = {3, 4, 5}\n",
    "result = union_of_sets(set1, set2)\n",
    "print(\"Union of sets:\", result)"
   ]
  },
  {
   "cell_type": "markdown",
   "id": "b224256e",
   "metadata": {},
   "source": [
    "# 12.\tFind the intersection of two sets using a set method."
   ]
  },
  {
   "cell_type": "code",
   "execution_count": 13,
   "id": "f1be1fd3",
   "metadata": {},
   "outputs": [
    {
     "name": "stdout",
     "output_type": "stream",
     "text": [
      "Intersection of sets: {3, 4}\n"
     ]
    }
   ],
   "source": [
    "def intersection_of_sets(set1, set2):\n",
    "    # Using the intersection() method to find the intersection of two sets\n",
    "    return set1.intersection(set2)\n",
    "\n",
    "# Example usage:\n",
    "set1 = {1, 2, 3, 4}\n",
    "set2 = {3, 4, 5, 6}\n",
    "result = intersection_of_sets(set1, set2)\n",
    "print(\"Intersection of sets:\", result)"
   ]
  },
  {
   "cell_type": "markdown",
   "id": "f595d4e3",
   "metadata": {},
   "source": [
    "# 13.\tRemove all elements from one set that are also present in another set using a set method."
   ]
  },
  {
   "cell_type": "code",
   "execution_count": 14,
   "id": "9f805e41",
   "metadata": {},
   "outputs": [
    {
     "name": "stdout",
     "output_type": "stream",
     "text": [
      "Updated set1 after removal: {1, 2, 5}\n"
     ]
    }
   ],
   "source": [
    "def remove_elements(set1, set2):\n",
    "    # Using the difference_update() method to remove elements from set1 that are in set2\n",
    "    set1.difference_update(set2)\n",
    "    return set1\n",
    "\n",
    "# Example usage:\n",
    "set1 = {1, 2, 3, 4, 5}\n",
    "set2 = {3, 4, 6}\n",
    "result = remove_elements(set1, set2)\n",
    "print(\"Updated set1 after removal:\", result)"
   ]
  },
  {
   "cell_type": "markdown",
   "id": "9b3c40c3",
   "metadata": {},
   "source": [
    "# 14.\tFind the difference between two sets using a set method."
   ]
  },
  {
   "cell_type": "code",
   "execution_count": 15,
   "id": "73c7a8af",
   "metadata": {},
   "outputs": [
    {
     "name": "stdout",
     "output_type": "stream",
     "text": [
      "Difference of sets: {1, 2, 5}\n"
     ]
    }
   ],
   "source": [
    "def difference_of_sets(set1, set2):\n",
    "    # Using the difference() method to find the difference between two sets\n",
    "    return set1.difference(set2)\n",
    "\n",
    "# Example usage:\n",
    "set1 = {1, 2, 3, 4, 5}\n",
    "set2 = {3, 4, 6}\n",
    "result = difference_of_sets(set1, set2)\n",
    "print(\"Difference of sets:\", result)"
   ]
  },
  {
   "cell_type": "markdown",
   "id": "6dc95d9d",
   "metadata": {},
   "source": [
    "# 15.Convert a list of integers into a set and then back to a list to remove duplicates, using set operations."
   ]
  },
  {
   "cell_type": "code",
   "execution_count": 16,
   "id": "78a9cbdb",
   "metadata": {},
   "outputs": [
    {
     "name": "stdout",
     "output_type": "stream",
     "text": [
      "List after removing duplicates: [1, 2, 3, 4, 5, 6]\n"
     ]
    }
   ],
   "source": [
    "def list_to_set_to_list(int_list):\n",
    "    # Convert the list to a set to remove duplicates\n",
    "    unique_set = set(int_list)\n",
    "    \n",
    "    # Convert the set back to a list\n",
    "    unique_list = list(unique_set)\n",
    "    \n",
    "    return unique_list\n",
    "\n",
    "# Example usage:\n",
    "int_list = [1, 2, 3, 2, 4, 5, 1, 6, 4]\n",
    "result = list_to_set_to_list(int_list)\n",
    "print(\"List after removing duplicates:\", result)"
   ]
  },
  {
   "cell_type": "markdown",
   "id": "3de2819c",
   "metadata": {},
   "source": [
    "# 16.Merge two dictionaries into a single dictionary using a dictionary method"
   ]
  },
  {
   "cell_type": "code",
   "execution_count": 17,
   "id": "215ce1fd",
   "metadata": {},
   "outputs": [
    {
     "name": "stdout",
     "output_type": "stream",
     "text": [
      "Merged dictionary using update(): {'a': 1, 'b': 3, 'c': 4}\n"
     ]
    }
   ],
   "source": [
    "def merge_dicts(dict1, dict2):\n",
    "    # Use the update() method to merge dict2 into dict1\n",
    "    dict1.update(dict2)\n",
    "    return dict1\n",
    "\n",
    "# Example usage:\n",
    "dict1 = {'a': 1, 'b': 2}\n",
    "dict2 = {'b': 3, 'c': 4}\n",
    "merged_dict = merge_dicts(dict1, dict2)\n",
    "print(\"Merged dictionary using update():\", merged_dict)"
   ]
  },
  {
   "cell_type": "code",
   "execution_count": 18,
   "id": "714e2604",
   "metadata": {},
   "outputs": [
    {
     "name": "stdout",
     "output_type": "stream",
     "text": [
      "Merged dictionary using unpacking: {'a': 1, 'b': 3, 'c': 4}\n"
     ]
    }
   ],
   "source": [
    "def merge_dicts(dict1, dict2):\n",
    "    # Use the unpacking operator to create a new merged dictionary\n",
    "    merged_dict = {**dict1, **dict2}\n",
    "    return merged_dict\n",
    "\n",
    "# Example usage:\n",
    "dict1 = {'a': 1, 'b': 2}\n",
    "dict2 = {'b': 3, 'c': 4}\n",
    "merged_dict = merge_dicts(dict1, dict2)\n",
    "print(\"Merged dictionary using unpacking:\", merged_dict)"
   ]
  },
  {
   "cell_type": "markdown",
   "id": "1a9dfc67",
   "metadata": {},
   "source": [
    "# 17.Extract all values from a dictionary into a list using a dictionary method."
   ]
  },
  {
   "cell_type": "code",
   "execution_count": 19,
   "id": "a3d9003f",
   "metadata": {},
   "outputs": [
    {
     "name": "stdout",
     "output_type": "stream",
     "text": [
      "List of values: [1, 2, 3]\n"
     ]
    }
   ],
   "source": [
    "def extract_values_to_list(input_dict):\n",
    "    # Use the values() method to get all values and convert to a list\n",
    "    values_list = list(input_dict.values())\n",
    "    return values_list\n",
    "\n",
    "# Example usage:\n",
    "sample_dict = {'a': 1, 'b': 2, 'c': 3}\n",
    "result = extract_values_to_list(sample_dict)\n",
    "print(\"List of values:\", result)"
   ]
  },
  {
   "cell_type": "code",
   "execution_count": null,
   "id": "cb49bb0b",
   "metadata": {},
   "outputs": [],
   "source": []
  }
 ],
 "metadata": {
  "kernelspec": {
   "display_name": "Python 3 (ipykernel)",
   "language": "python",
   "name": "python3"
  },
  "language_info": {
   "codemirror_mode": {
    "name": "ipython",
    "version": 3
   },
   "file_extension": ".py",
   "mimetype": "text/x-python",
   "name": "python",
   "nbconvert_exporter": "python",
   "pygments_lexer": "ipython3",
   "version": "3.9.13"
  }
 },
 "nbformat": 4,
 "nbformat_minor": 5
}
